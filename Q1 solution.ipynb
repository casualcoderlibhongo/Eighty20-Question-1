{
 "cells": [
  {
   "cell_type": "code",
   "execution_count": 1,
   "metadata": {},
   "outputs": [],
   "source": [
    "import pandas as pd\n",
    "import numpy as np\n",
    "import matplotlib.pyplot as plt\n",
    "import seaborn as sns"
   ]
  },
  {
   "cell_type": "code",
   "execution_count": 2,
   "metadata": {},
   "outputs": [],
   "source": [
    "df = pd.read_csv('birthday_challenge.txt', delimiter='\\t')"
   ]
  },
  {
   "cell_type": "code",
   "execution_count": 3,
   "metadata": {},
   "outputs": [
    {
     "data": {
      "text/html": [
       "<div>\n",
       "<style scoped>\n",
       "    .dataframe tbody tr th:only-of-type {\n",
       "        vertical-align: middle;\n",
       "    }\n",
       "\n",
       "    .dataframe tbody tr th {\n",
       "        vertical-align: top;\n",
       "    }\n",
       "\n",
       "    .dataframe thead th {\n",
       "        text-align: right;\n",
       "    }\n",
       "</style>\n",
       "<table border=\"1\" class=\"dataframe\">\n",
       "  <thead>\n",
       "    <tr style=\"text-align: right;\">\n",
       "      <th></th>\n",
       "      <th>date of birth</th>\n",
       "      <th>number of people</th>\n",
       "    </tr>\n",
       "  </thead>\n",
       "  <tbody>\n",
       "    <tr>\n",
       "      <th>0</th>\n",
       "      <td>1900_01_01</td>\n",
       "      <td>8</td>\n",
       "    </tr>\n",
       "    <tr>\n",
       "      <th>1</th>\n",
       "      <td>1900_01_02</td>\n",
       "      <td>1</td>\n",
       "    </tr>\n",
       "    <tr>\n",
       "      <th>2</th>\n",
       "      <td>1900_01_04</td>\n",
       "      <td>1</td>\n",
       "    </tr>\n",
       "    <tr>\n",
       "      <th>3</th>\n",
       "      <td>1900_01_06</td>\n",
       "      <td>1</td>\n",
       "    </tr>\n",
       "    <tr>\n",
       "      <th>4</th>\n",
       "      <td>1900_01_10</td>\n",
       "      <td>1</td>\n",
       "    </tr>\n",
       "  </tbody>\n",
       "</table>\n",
       "</div>"
      ],
      "text/plain": [
       "  date of birth  number of people\n",
       "0    1900_01_01                 8\n",
       "1    1900_01_02                 1\n",
       "2    1900_01_04                 1\n",
       "3    1900_01_06                 1\n",
       "4    1900_01_10                 1"
      ]
     },
     "execution_count": 3,
     "metadata": {},
     "output_type": "execute_result"
    }
   ],
   "source": [
    "df.head()"
   ]
  },
  {
   "cell_type": "code",
   "execution_count": 4,
   "metadata": {},
   "outputs": [
    {
     "data": {
      "text/html": [
       "<div>\n",
       "<style scoped>\n",
       "    .dataframe tbody tr th:only-of-type {\n",
       "        vertical-align: middle;\n",
       "    }\n",
       "\n",
       "    .dataframe tbody tr th {\n",
       "        vertical-align: top;\n",
       "    }\n",
       "\n",
       "    .dataframe thead th {\n",
       "        text-align: right;\n",
       "    }\n",
       "</style>\n",
       "<table border=\"1\" class=\"dataframe\">\n",
       "  <thead>\n",
       "    <tr style=\"text-align: right;\">\n",
       "      <th></th>\n",
       "      <th>date of birth</th>\n",
       "      <th>number of people</th>\n",
       "    </tr>\n",
       "  </thead>\n",
       "  <tbody>\n",
       "    <tr>\n",
       "      <th>29809</th>\n",
       "      <td>1999_11_17</td>\n",
       "      <td>1</td>\n",
       "    </tr>\n",
       "    <tr>\n",
       "      <th>29810</th>\n",
       "      <td>1999_11_22</td>\n",
       "      <td>1</td>\n",
       "    </tr>\n",
       "    <tr>\n",
       "      <th>29811</th>\n",
       "      <td>1999_11_28</td>\n",
       "      <td>1</td>\n",
       "    </tr>\n",
       "    <tr>\n",
       "      <th>29812</th>\n",
       "      <td>1999_12_02</td>\n",
       "      <td>1</td>\n",
       "    </tr>\n",
       "    <tr>\n",
       "      <th>29813</th>\n",
       "      <td>1999_12_20</td>\n",
       "      <td>1</td>\n",
       "    </tr>\n",
       "  </tbody>\n",
       "</table>\n",
       "</div>"
      ],
      "text/plain": [
       "      date of birth  number of people\n",
       "29809    1999_11_17                 1\n",
       "29810    1999_11_22                 1\n",
       "29811    1999_11_28                 1\n",
       "29812    1999_12_02                 1\n",
       "29813    1999_12_20                 1"
      ]
     },
     "execution_count": 4,
     "metadata": {},
     "output_type": "execute_result"
    }
   ],
   "source": [
    "df.tail()"
   ]
  },
  {
   "cell_type": "code",
   "execution_count": 5,
   "metadata": {},
   "outputs": [
    {
     "name": "stdout",
     "output_type": "stream",
     "text": [
      "      date of birth  number of people\n",
      "23579    1968_01_01               541\n",
      "22849    1966_01_01               533\n",
      "22484    1965_01_01               533\n",
      "22118    1964_01_01               527\n",
      "24310    1970_01_01               508\n",
      "...             ...               ...\n",
      "433      1903_04_21                 1\n",
      "434      1903_04_24                 1\n",
      "435      1903_04_25                 1\n",
      "437      1903_04_27                 1\n",
      "29813    1999_12_20                 1\n",
      "\n",
      "[29814 rows x 2 columns]\n"
     ]
    }
   ],
   "source": [
    "print(df.sort_values(by='number of people', ascending=False))"
   ]
  },
  {
   "cell_type": "code",
   "execution_count": 11,
   "metadata": {},
   "outputs": [
    {
     "name": "stdout",
     "output_type": "stream",
     "text": [
      "Month & day 01: 19951\n",
      "Month & day 02: 10436\n",
      "Month & day 03: 9986\n",
      "Month & day 04: 9145\n",
      "Month & day 05: 8672\n",
      "Month & day 06: 11061\n",
      "Month & day 07: 7668\n",
      "Month & day 08: 7813\n",
      "Month & day 09: 7550\n",
      "Month & day 10: 11235\n",
      "Month & day 11: 7376\n",
      "Month & day 12: 7944\n",
      "Total number of clients: 2067779\n",
      "Total that fit pattern: 118837\n",
      "Percentage that fit pattern: 5.75%\n"
     ]
    }
   ],
   "source": [
    "month_nums = ['01', '02', '03', '04', '05', '06', '07', '08', '09', '10', '11', '12']\n",
    "total = 0\n",
    "\n",
    "for i in month_nums:\n",
    "    matches = (df['date of birth'].str.slice(start=5,stop=7) == i) & (df['date of birth'].str.slice(start=8,stop=10) == i)\n",
    "    temp_df = df[matches]\n",
    "    res = temp_df['number of people'].sum()\n",
    "    total += res\n",
    "    print(f'Month & day {i}: {res}')\n",
    "    \n",
    "print('Total number of clients: ' + str(df['number of people'].sum()))\n",
    "print(f'Total that fit pattern: {total}')\n",
    "print('Percentage that fit pattern: ' + '{:.2%}'.format(total/df['number of people'].sum()))"
   ]
  },
  {
   "cell_type": "code",
   "execution_count": null,
   "metadata": {},
   "outputs": [],
   "source": []
  }
 ],
 "metadata": {
  "kernelspec": {
   "display_name": "Python 3",
   "language": "python",
   "name": "python3"
  },
  "language_info": {
   "codemirror_mode": {
    "name": "ipython",
    "version": 3
   },
   "file_extension": ".py",
   "mimetype": "text/x-python",
   "name": "python",
   "nbconvert_exporter": "python",
   "pygments_lexer": "ipython3",
   "version": "3.8.3"
  }
 },
 "nbformat": 4,
 "nbformat_minor": 4
}
